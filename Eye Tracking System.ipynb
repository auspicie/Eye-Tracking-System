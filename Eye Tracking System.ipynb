{
 "cells": [
  {
   "cell_type": "code",
   "execution_count": null,
   "id": "1660c183-3570-4592-b63a-f526a623b8d4",
   "metadata": {},
   "outputs": [],
   "source": [
    "import cv2\n",
    "from keras.models import load_model\n",
    "import numpy as np\n",
    "\n",
    "model = load_model(\"eye_tracking_model.h5\")\n",
    "threshold = 0.6\n",
    "\n",
    "def detect_eye_movement(eye_image):\n",
    "    eye_image = cv2.resize(eye_image, (48,48))\n",
    "    eye_image = cv2.cvtColor(eye_image, cv2.COLOR_BGR2GRAY)\n",
    "    eye_image = np.expand_dims(eye_image, axis=0)\n",
    "    eye_image = np.expand_dims(eye_image, axis=-1)\n",
    "    eye_image = eye_image.astype(\"float32\")/255\n",
    "\n",
    "    prob_right_movement = model.predict(eye_image)[0][1]\n",
    "    if prob_right_movement > threshold:\n",
    "        return True\n",
    "    else:\n",
    "        return False\n",
    "face_cascade = cv2.CascadeClassifier(cv2.data.haarcascades + \"haarcascade_frontalface_default.xml\")\n",
    "\n",
    "cap = cv2.VideoCapture(0)\n",
    "while True:\n",
    "    ret, frame = cap.read()\n",
    "    if not ret:\n",
    "        break\n",
    "    gray = cv2.cvtColor(frame, cv2.COLOR_BGR2GRAY)\n",
    "    faces = face_cascade.detectMultiScale(gray, scaleFactor=1.1, minNeighbors=5, minSize=(30,30))\n",
    "    for (x,y,w,h) in faces:\n",
    "        eye_region = frame[y:y+h, x:x+w]\n",
    "        movement = detect_eye_movement(eye_region)\n",
    "        if movement:\n",
    "            cv2.putText(frame, \"Suspicious behaviour is detected\", (x, y-10), cv2.FONT_HERSHEY_SIMPLEX, 0.9, (0,0,255), 2)\n",
    "        else:\n",
    "            cv2.putText(frame, \" \", (x, y-10), cv2.FONT_HERSHEY_SIMPLEX, 0.9, (0,0,255), 2)\n",
    "\n",
    "    cv2.imshow(\"Emotion Detection\", frame)\n",
    "\n",
    "    if cv2.waitKey(1) & 0xFF == ord(\"q\"):\n",
    "        break\n",
    "\n",
    "cap.release()\n",
    "cv2.destroyAllWindows()"
   ]
  }
 ],
 "metadata": {
  "kernelspec": {
   "display_name": "Python 3 (ipykernel)",
   "language": "python",
   "name": "python3"
  },
  "language_info": {
   "codemirror_mode": {
    "name": "ipython",
    "version": 3
   },
   "file_extension": ".py",
   "mimetype": "text/x-python",
   "name": "python",
   "nbconvert_exporter": "python",
   "pygments_lexer": "ipython3",
   "version": "3.12.9"
  }
 },
 "nbformat": 4,
 "nbformat_minor": 5
}
