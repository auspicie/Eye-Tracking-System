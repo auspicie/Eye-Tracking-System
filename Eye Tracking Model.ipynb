{
 "cells": [
  {
   "cell_type": "code",
   "execution_count": null,
   "id": "ca9eb949-b609-4ad9-9501-2f18092f24fd",
   "metadata": {},
   "outputs": [],
   "source": [
    "import os\n",
    "import cv2\n",
    "import numpy as np\n",
    "from sklearn.model_selection import train_test_split\n",
    "from keras.models import Sequential\n",
    "from keras.layers import Conv2D, MaxPooling2D, Flatten, Dense, Dropout\n",
    "from keras.utils import to_categorical\n",
    "\n",
    "left_eye_folder = \"C:/Users/OWNER/Downloads/Alabi/Computer Vision/Self Imple/Eye Tracking System/Dataset/left_look\"\n",
    "right_eye_folder = \"C:/Users/OWNER/Downloads/Alabi/Computer Vision/Self Imple/Eye Tracking System/Dataset/right_look\"\n",
    "\n",
    "def load_data(folder):\n",
    "    images = []\n",
    "    labels = []\n",
    "    for filename in os.listdir(folder):\n",
    "        img = cv2.imread(os.path.join(folder,filename), cv2.IMREAD_GRAYSCALE)\n",
    "        if img is not None:\n",
    "            img = cv2.resize(img, (48,48))\n",
    "            images.append(img)\n",
    "            label = 0 if folder.endswith(\"left_look\") else 1\n",
    "            labels.append(label)\n",
    "    return np.array(images), np.array(labels)\n",
    "\n",
    "images_left, labels_left = load_data(left_eye_folder)\n",
    "images_right, labels_right = load_data(right_eye_folder)\n",
    "\n",
    "images_combined = np.concatenate((images_left,images_right), axis=0)\n",
    "labels_combined = np.concatenate((labels_left,labels_right), axis=0)\n",
    "\n",
    "images_normalized = images_combined.reshape(-1,48,48,1).astype('float32')/255\n",
    "labels_binary = to_categorical(labels_combined)\n",
    "X_train, X_test, y_train, y_test = train_test_split(images_normalized, labels_binary, test_size = 0.2, random_state = 42)\n",
    "\n",
    "model = Sequential()\n",
    "model.add(Conv2D(32, kernel_size=(3,3), activation='relu', input_shape=(48,48,1)))\n",
    "model.add(Conv2D(64, kernel_size=(3,3), activation='relu'))\n",
    "model.add(MaxPooling2D(pool_size=(2,2)))\n",
    "model.add(Dropout(0.25))\n",
    "model.add(Flatten())\n",
    "model.add(Dense(128, activation='relu'))\n",
    "model.add(Dropout(0.5))\n",
    "model.add(Dense(2, activation='softmax'))\n",
    "\n",
    "\n",
    "model.compile(loss=\"categorical_crossentropy\", optimizer='adam', metrics=[\"accuracy\"])\n",
    "model.fit(X_train, y_train, batch_size=64, epochs=10, verbose=1, validation_data=(X_test, y_test))\n",
    "model.save(\"eye_tracking_model.h5\")"
   ]
  },
  {
   "cell_type": "code",
   "execution_count": null,
   "id": "8aa5f9f4-b537-41ef-8a27-c9140675a9e4",
   "metadata": {},
   "outputs": [],
   "source": []
  }
 ],
 "metadata": {
  "kernelspec": {
   "display_name": "Python 3 (ipykernel)",
   "language": "python",
   "name": "python3"
  },
  "language_info": {
   "codemirror_mode": {
    "name": "ipython",
    "version": 3
   },
   "file_extension": ".py",
   "mimetype": "text/x-python",
   "name": "python",
   "nbconvert_exporter": "python",
   "pygments_lexer": "ipython3",
   "version": "3.12.9"
  }
 },
 "nbformat": 4,
 "nbformat_minor": 5
}
